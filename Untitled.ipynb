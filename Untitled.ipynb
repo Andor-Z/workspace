{
 "cells": [
  {
   "cell_type": "markdown",
   "metadata": {},
   "source": [
    "[TOC]"
   ]
  },
  {
   "cell_type": "code",
   "execution_count": 6,
   "metadata": {
    "collapsed": false
   },
   "outputs": [],
   "source": [
    "import numpy as np\n",
    "import pandas as pd\n",
    "from pandas import Series, DataFrame"
   ]
  },
  {
   "cell_type": "code",
   "execution_count": 26,
   "metadata": {
    "collapsed": true
   },
   "outputs": [],
   "source": [
    "critics={'Lisa Rose': {'Lady in the Water': 2.5, 'Snakes on a Plane': 3.5,\n",
    " 'Just My Luck': 3.0, 'Superman Returns': 3.5, 'You, Me and Dupree': 2.5, \n",
    " 'The Night Listener': 3.0},\n",
    "'Gene Seymour': {'Lady in the Water': 3.0, 'Snakes on a Plane': 3.5, \n",
    " 'Just My Luck': 1.5, 'Superman Returns': 5.0, 'The Night Listener': 3.0, \n",
    " 'You, Me and Dupree': 3.5}, \n",
    "'Michael Phillips': {'Lady in the Water': 2.5, 'Snakes on a Plane': 3.0,\n",
    " 'Superman Returns': 3.5, 'The Night Listener': 4.0},\n",
    "'Claudia Puig': {'Snakes on a Plane': 3.5, 'Just My Luck': 3.0,\n",
    " 'The Night Listener': 4.5, 'Superman Returns': 4.0, \n",
    " 'You, Me and Dupree': 2.5},\n",
    "'Mick LaSalle': {'Lady in the Water': 3.0, 'Snakes on a Plane': 4.0, \n",
    " 'Just My Luck': 2.0, 'Superman Returns': 3.0, 'The Night Listener': 3.0,\n",
    " 'You, Me and Dupree': 2.0}, \n",
    "'Jack Matthews': {'Lady in the Water': 3.0, 'Snakes on a Plane': 4.0,\n",
    " 'The Night Listener': 3.0, 'Superman Returns': 5.0, 'You, Me and Dupree': 3.5},\n",
    "'Toby': {'Snakes on a Plane':4.5,'You, Me and Dupree':1.0,'Superman Returns':4.0}}"
   ]
  },
  {
   "cell_type": "code",
   "execution_count": 22,
   "metadata": {
    "collapsed": false
   },
   "outputs": [
    {
     "data": {
      "text/html": [
       "<div>\n",
       "<table border=\"1\" class=\"dataframe\">\n",
       "  <thead>\n",
       "    <tr style=\"text-align: right;\">\n",
       "      <th></th>\n",
       "      <th>Claudia Puig</th>\n",
       "      <th>Gene Seymour</th>\n",
       "      <th>Jack Matthews</th>\n",
       "      <th>Lisa Rose</th>\n",
       "      <th>Michael Phillips</th>\n",
       "      <th>Mick LaSalle</th>\n",
       "      <th>Toby</th>\n",
       "    </tr>\n",
       "  </thead>\n",
       "  <tbody>\n",
       "    <tr>\n",
       "      <th>Just My Luck</th>\n",
       "      <td>3.0</td>\n",
       "      <td>1.5</td>\n",
       "      <td>NaN</td>\n",
       "      <td>3.0</td>\n",
       "      <td>NaN</td>\n",
       "      <td>2</td>\n",
       "      <td>NaN</td>\n",
       "    </tr>\n",
       "    <tr>\n",
       "      <th>Lady in the Water</th>\n",
       "      <td>NaN</td>\n",
       "      <td>3.0</td>\n",
       "      <td>3.0</td>\n",
       "      <td>2.5</td>\n",
       "      <td>2.5</td>\n",
       "      <td>3</td>\n",
       "      <td>NaN</td>\n",
       "    </tr>\n",
       "    <tr>\n",
       "      <th>Snakes on a Plane</th>\n",
       "      <td>3.5</td>\n",
       "      <td>3.5</td>\n",
       "      <td>4.0</td>\n",
       "      <td>3.5</td>\n",
       "      <td>3.0</td>\n",
       "      <td>4</td>\n",
       "      <td>4.5</td>\n",
       "    </tr>\n",
       "    <tr>\n",
       "      <th>Superman Returns</th>\n",
       "      <td>4.0</td>\n",
       "      <td>5.0</td>\n",
       "      <td>5.0</td>\n",
       "      <td>3.5</td>\n",
       "      <td>3.5</td>\n",
       "      <td>3</td>\n",
       "      <td>4.0</td>\n",
       "    </tr>\n",
       "    <tr>\n",
       "      <th>The Night Listener</th>\n",
       "      <td>4.5</td>\n",
       "      <td>3.0</td>\n",
       "      <td>3.0</td>\n",
       "      <td>3.0</td>\n",
       "      <td>4.0</td>\n",
       "      <td>3</td>\n",
       "      <td>NaN</td>\n",
       "    </tr>\n",
       "    <tr>\n",
       "      <th>You, Me and Dupree</th>\n",
       "      <td>2.5</td>\n",
       "      <td>3.5</td>\n",
       "      <td>3.5</td>\n",
       "      <td>2.5</td>\n",
       "      <td>NaN</td>\n",
       "      <td>2</td>\n",
       "      <td>1.0</td>\n",
       "    </tr>\n",
       "  </tbody>\n",
       "</table>\n",
       "</div>"
      ],
      "text/plain": [
       "                    Claudia Puig  Gene Seymour  Jack Matthews  Lisa Rose  \\\n",
       "Just My Luck                 3.0           1.5            NaN        3.0   \n",
       "Lady in the Water            NaN           3.0            3.0        2.5   \n",
       "Snakes on a Plane            3.5           3.5            4.0        3.5   \n",
       "Superman Returns             4.0           5.0            5.0        3.5   \n",
       "The Night Listener           4.5           3.0            3.0        3.0   \n",
       "You, Me and Dupree           2.5           3.5            3.5        2.5   \n",
       "\n",
       "                    Michael Phillips  Mick LaSalle  Toby  \n",
       "Just My Luck                     NaN             2   NaN  \n",
       "Lady in the Water                2.5             3   NaN  \n",
       "Snakes on a Plane                3.0             4   4.5  \n",
       "Superman Returns                 3.5             3   4.0  \n",
       "The Night Listener               4.0             3   NaN  \n",
       "You, Me and Dupree               NaN             2   1.0  "
      ]
     },
     "execution_count": 22,
     "metadata": {},
     "output_type": "execute_result"
    }
   ],
   "source": [
    "critics_df = DataFrame(critics)\n",
    "#critics_df = critics_df.T\n",
    "critics_df"
   ]
  },
  {
   "cell_type": "code",
   "execution_count": 37,
   "metadata": {
    "collapsed": false,
    "scrolled": true
   },
   "outputs": [
    {
     "data": {
      "text/plain": [
       "0.29429805508554946"
      ]
     },
     "execution_count": 37,
     "metadata": {},
     "output_type": "execute_result"
    }
   ],
   "source": [
    "#返回一个\n",
    "def sim_distance( prefs, person1, person2 ):\n",
    "\t#\n",
    "\tsi = {}\n",
    "\tfor item in prefs[person1]:\n",
    "\n",
    "\t\tif item in prefs[person2]:\n",
    "\t\t\tsi[item] = 1\n",
    "\n",
    "\t#如果两者没用共同之处，则返回0\n",
    "\tif len(si) == 0: return 0\n",
    "\n",
    "\tsum_of_squares = sum([pow(prefs[person1][item] - prefs[person2][item], 2)\n",
    "\t\t                  for item in prefs[person1] if item in prefs[person2]])\n",
    "\n",
    "\treturn 1/(1 + np.sqrt(sum_of_squares))\n",
    "\n",
    "sim_distance(critics, 'Lisa Rose', 'Gene Seymour')"
   ]
  },
  {
   "cell_type": "code",
   "execution_count": 34,
   "metadata": {
    "collapsed": false
   },
   "outputs": [
    {
     "data": {
      "text/plain": [
       "2.5"
      ]
     },
     "execution_count": 34,
     "metadata": {},
     "output_type": "execute_result"
    }
   ],
   "source": [
    "critics_df['Lisa Rose']['Lady in the Water']"
   ]
  },
  {
   "cell_type": "code",
   "execution_count": 4,
   "metadata": {
    "collapsed": false
   },
   "outputs": [
    {
     "data": {
      "text/plain": [
       "Claudia Puig and Gene Seymour         0.281729\n",
       "Claudia Puig and Jack Matthews        0.320377\n",
       "Claudia Puig and Lisa Rose            0.387426\n",
       "Claudia Puig and Michael Phillips     0.535898\n",
       "Claudia Puig and Mick LaSalle         0.314520\n",
       "Gene Seymour and Jack Matthews        0.666667\n",
       "Gene Seymour and Lisa Rose            0.294298\n",
       "Gene Seymour and Michael Phillips     0.340542\n",
       "Jack Matthews and Lisa Rose           0.340542\n",
       "Jack Matthews and Michael Phillips    0.320377\n",
       "Lisa Rose and Michael Phillips        0.472136\n",
       "Mick LaSalle and Gene Seymour         0.277926\n",
       "Mick LaSalle and Jack Matthews        0.285714\n",
       "Mick LaSalle and Lisa Rose            0.414214\n",
       "Mick LaSalle and Michael Phillips     0.387426\n",
       "Toby and Claudia Puig                 0.356789\n",
       "Toby and Gene Seymour                 0.258246\n",
       "Toby and Jack Matthews                0.267479\n",
       "Toby and Lisa Rose                    0.348331\n",
       "Toby and Michael Phillips             0.387426\n",
       "Toby and Mick LaSalle                 0.400000\n",
       "dtype: float64"
      ]
     },
     "execution_count": 4,
     "metadata": {},
     "output_type": "execute_result"
    }
   ],
   "source": [
    "# A dictionary of movie critics and their ratings of a small\n",
    "# set of movies\n",
    "critics={'Lisa Rose': {'Lady in the Water': 2.5, 'Snakes on a Plane': 3.5,\n",
    " 'Just My Luck': 3.0, 'Superman Returns': 3.5, 'You, Me and Dupree': 2.5, \n",
    " 'The Night Listener': 3.0},\n",
    "'Gene Seymour': {'Lady in the Water': 3.0, 'Snakes on a Plane': 3.5, \n",
    " 'Just My Luck': 1.5, 'Superman Returns': 5.0, 'The Night Listener': 3.0, \n",
    " 'You, Me and Dupree': 3.5}, \n",
    "'Michael Phillips': {'Lady in the Water': 2.5, 'Snakes on a Plane': 3.0,\n",
    " 'Superman Returns': 3.5, 'The Night Listener': 4.0},\n",
    "'Claudia Puig': {'Snakes on a Plane': 3.5, 'Just My Luck': 3.0,\n",
    " 'The Night Listener': 4.5, 'Superman Returns': 4.0, \n",
    " 'You, Me and Dupree': 2.5},\n",
    "'Mick LaSalle': {'Lady in the Water': 3.0, 'Snakes on a Plane': 4.0, \n",
    " 'Just My Luck': 2.0, 'Superman Returns': 3.0, 'The Night Listener': 3.0,\n",
    " 'You, Me and Dupree': 2.0}, \n",
    "'Jack Matthews': {'Lady in the Water': 3.0, 'Snakes on a Plane': 4.0,\n",
    " 'The Night Listener': 3.0, 'Superman Returns': 5.0, 'You, Me and Dupree': 3.5},\n",
    "'Toby': {'Snakes on a Plane':4.5,'You, Me and Dupree':1.0,'Superman Returns':4.0}}\n",
    "\n",
    "\n",
    "\n",
    "\n",
    "from math import sqrt\n",
    "#返回一个有关person1与person2 的基于距离的相似度评价\n",
    "def sim_distace(person1, person2, prefs = critics):\n",
    "\t#得到shared_items的列表\n",
    "\tsi = {}\n",
    "\tfor item in prefs[person1]:\n",
    "\t\tif item in prefs[person2]:\n",
    "\t\t\tsi[item] = 1\n",
    "\t\t\t\n",
    "\n",
    "#如果两者没有共同之处，则返回0\n",
    "\tif len(si) ==0: return 0\n",
    "\n",
    "#计算所有差值的平方和\n",
    "\tsum_of_squares = sum([pow(prefs[person1][item] - prefs[person2][item], 2) for item in prefs[person1] if item in prefs[person2]])\n",
    "\n",
    "\treturn 1/(1 + sqrt(sum_of_squares))\n",
    "\n",
    "#s = sim_distace(critics, 'Lisa Rose', 'Gene Seymour')\n",
    "\n",
    "\n",
    "p = {}\n",
    "for person1 in critics:\n",
    "\tfor person2 in critics:\n",
    "\t\tif person1 != person2:\n",
    "\t\t\ta = sorted([person1, person2])\n",
    "\t\t\tif a in p.values():\n",
    "\t\t\t\tpass\n",
    "\t\t\telse:\n",
    "\t\t\t\tp[person1+' and ' +person2] = a\n",
    "\t\t\t#p[person1+' and ' +person2] = sorted([person1, person2])\n",
    "\n",
    "all_sim_distace = p.copy()\n",
    "for i in p:\n",
    "\t#sim[p[i]] = sim_distace(*p[i])\n",
    "\tall_sim_distace[i] = sim_distace(*p[i])\n",
    "from pandas import Series, DataFrame\n",
    "\n",
    "all_sim_distace_df =Series(all_sim_distace)\n",
    "all_sim_distace_df\n",
    "\n",
    "\n",
    "\n"
   ]
  },
  {
   "cell_type": "code",
   "execution_count": 7,
   "metadata": {
    "collapsed": false
   },
   "outputs": [
    {
     "data": {
      "text/plain": [
       "0.39605901719066977"
      ]
     },
     "execution_count": 7,
     "metadata": {},
     "output_type": "execute_result"
    }
   ],
   "source": [
    "def sim_pearson(prefs, p1, p2):\n",
    "\tsi = {}\n",
    "\tfor item in prefs[p1]:\n",
    "\t\tif item in prefs[p2]:\n",
    "\t\t\tsi[item] = 1\n",
    "\n",
    "\tn = len(si)\n",
    "\t# 如两者没有共同之处，则返回0\n",
    "\tif n == 0:return 0\n",
    "\t#对所有偏好求和\n",
    "\tsump1 = sum([prefs[p1][it] for it in si])\n",
    "\tsump2 = sum([prefs[p2][it] for it in si])\n",
    "\n",
    "\t# 求平方和\n",
    "\tsum1Sq = sum([pow(prefs[p1][it], 2) for it in si])\n",
    "\tsum2Sq = sum([pow(prefs[p2][it], 2) for it in si])\n",
    "\n",
    "\t# 求乘积之和 Sum of the products\n",
    "\tpSum = sum([prefs[p1][it] * prefs[p2][it] for it in si])\n",
    "\n",
    "\t# 计算皮尔逊评价值 Calculate r (Pesrson score)\n",
    "\tnum = pSum - (sump1*sump2)/n\n",
    "\tden = np.sqrt((sum1Sq - pow(sump1, 2)/n)*(sum2Sq - pow(sump2, 2)/n))\n",
    "\tif den == 0 : return 0\n",
    "\n",
    "\tr = num/den\n",
    "\treturn r\n",
    "\n",
    "sim_pearson(critics, 'Lisa Rose', 'Gene Seymour')\n"
   ]
  }
 ],
 "metadata": {
  "kernelspec": {
   "display_name": "Python 3",
   "language": "python",
   "name": "python3"
  },
  "language_info": {
   "codemirror_mode": {
    "name": "ipython",
    "version": 3
   },
   "file_extension": ".py",
   "mimetype": "text/x-python",
   "name": "python",
   "nbconvert_exporter": "python",
   "pygments_lexer": "ipython3",
   "version": "3.4.3"
  }
 },
 "nbformat": 4,
 "nbformat_minor": 0
}
